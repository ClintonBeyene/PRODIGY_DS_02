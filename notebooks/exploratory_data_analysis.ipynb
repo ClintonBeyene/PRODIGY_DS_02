import numpy as np # linear algebra 
import pandas as pd # data processing 
import seaborn as sns 
import matplotlib.pyplot as plt
